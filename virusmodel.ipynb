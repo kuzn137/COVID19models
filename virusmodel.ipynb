{
 "cells": [
  {
   "cell_type": "markdown",
   "metadata": {},
   "source": [
    "# Normalized Maximum mortality and confirmed Covid-19 cases rates from population density (linear regression)."
   ]
  },
  {
   "cell_type": "raw",
   "metadata": {},
   "source": [
    "Linear regression models are studied for maximum mortality and confirmed cases rates normalized on total population in considered county, rate_max=max(cases_per_day/population), as outcome and incoming feature is population density in the area, \n",
    "rate(population_density). Maximum rate is maximum slope of number of cases growth. \n",
    "\n",
    "\n",
    "Both outcomes have some disadvantages in how they are defined. In both cases model shows similar result.  The model is done for China provinces where process was almost complete. Only Hubei was excluded that was outlier which showed couple orders of magnitude difference. This shows that conditions were really different there. In the model with mortality rate, few provinces which showed zero rate, were excluded, for most of them, excluding Tibet, zero was unexpected.  The regression slope can vary if we consider model for the other countries. \n",
    "\n",
    "\n",
    "To do normalization over all population is important in such model, despite of assumption that everything is distributed homogeneously in given area. The absolute number of cases may not have much sense if areas with different population are compared.\n",
    "\n",
    "For validation leave one sample out is used because of small number of samples. The MSE is 17% for mortality rate and 16% for confirmed cases, r2=0.2.\n",
    "\n",
    "This model can approximately explain high death and disease rate in New York compared, for example, to SF Bay Area. Overall Bay Area total population is approximately the same as in New York when population density is right about one the order of magnitude smaller.\n",
    "\n",
    "Next step is consider and compare such models for the US and other countries.\n",
    " "
   ]
  },
  {
   "cell_type": "code",
   "execution_count": 127,
   "metadata": {},
   "outputs": [],
   "source": [
    "\"\"\"\"\n",
    "Created on Sat Mar 14 01:36:10 2020\n",
    "@author: kuzn137\n",
    "\"\"\"\n",
    "import math\n",
    "import numpy as np\n",
    "import pandas as pd \n",
    "import matplotlib.pyplot as plt\n",
    "from sklearn import linear_model as lm\n",
    "plt.style.use('seaborn-whitegrid')\n",
    "import seaborn as sns\n",
    "import warnings\n",
    "warnings.filterwarnings(\"ignore\")\n",
    "def model_Density(df, model):\n",
    "    Ypr = []\n",
    "    #take one sample out validation\n",
    "    for i in df['density'].unique():\n",
    "        X=df.loc[df['density']!=i, ['density']]\n",
    "        Y=df.loc[df['density']!=i, ['max_rate']]\n",
    "        model.fit(X,Y)\n",
    "        X1 = df.loc[df['density']==i, ['density']]\n",
    "        Ypr.append(model.predict(X1).tolist())\n",
    "    ##remove [] 2 times\n",
    "    Ypr = [i for sublist in Ypr for i in sublist]\n",
    "    Ypr = [i for sublist in Ypr for i in sublist]\n",
    "    df['pred']=np.array(Ypr)\n",
    "    r2=1-sum(np.subtract(df['pred'],np.array(df['max_rate']))**2)/sum(np.subtract(df['max_rate'],df['max_rate'].mean())**2)\n",
    "    error = np.divide(abs(np.subtract(Ypr,np.array(df['max_rate']))), np.array(df['max_rate'])).astype('float') \n",
    "    error= [i*i for i in error] \n",
    "    #print(np.subtract(df['pred'],df['max_rate'].mean()**2)\n",
    "    #print(math.sqrt(sum(error)))\n",
    "    error=math.sqrt(sum(error))/len(error)\n",
    "   # err2=sum(r2)/len(r2)\n",
    "    print(\"MSE\")\n",
    "    print(error)\n",
    "    print('r2')\n",
    "    print(r2)\n",
    "    return Ypr, error"
   ]
  },
  {
   "cell_type": "markdown",
   "metadata": {},
   "source": [
    "# Read data for confirmed cases, death and china population"
   ]
  },
  {
   "cell_type": "code",
   "execution_count": 128,
   "metadata": {},
   "outputs": [
    {
     "data": {
      "text/html": [
       "<div>\n",
       "<style scoped>\n",
       "    .dataframe tbody tr th:only-of-type {\n",
       "        vertical-align: middle;\n",
       "    }\n",
       "\n",
       "    .dataframe tbody tr th {\n",
       "        vertical-align: top;\n",
       "    }\n",
       "\n",
       "    .dataframe thead th {\n",
       "        text-align: right;\n",
       "    }\n",
       "</style>\n",
       "<table border=\"1\" class=\"dataframe\">\n",
       "  <thead>\n",
       "    <tr style=\"text-align: right;\">\n",
       "      <th></th>\n",
       "      <th>Province/State</th>\n",
       "      <th>Country/Region</th>\n",
       "      <th>Lat</th>\n",
       "      <th>Long</th>\n",
       "      <th>1/22/20</th>\n",
       "      <th>1/23/20</th>\n",
       "      <th>1/24/20</th>\n",
       "      <th>1/25/20</th>\n",
       "      <th>1/26/20</th>\n",
       "      <th>1/27/20</th>\n",
       "      <th>...</th>\n",
       "      <th>4/5/20</th>\n",
       "      <th>4/6/20</th>\n",
       "      <th>4/7/20</th>\n",
       "      <th>4/8/20</th>\n",
       "      <th>4/9/20</th>\n",
       "      <th>4/10/20</th>\n",
       "      <th>4/11/20</th>\n",
       "      <th>4/12/20</th>\n",
       "      <th>4/13/20</th>\n",
       "      <th>4/14/20</th>\n",
       "    </tr>\n",
       "  </thead>\n",
       "  <tbody>\n",
       "    <tr>\n",
       "      <th>0</th>\n",
       "      <td>NaN</td>\n",
       "      <td>Afghanistan</td>\n",
       "      <td>33.0000</td>\n",
       "      <td>65.0000</td>\n",
       "      <td>0</td>\n",
       "      <td>0</td>\n",
       "      <td>0</td>\n",
       "      <td>0</td>\n",
       "      <td>0</td>\n",
       "      <td>0</td>\n",
       "      <td>...</td>\n",
       "      <td>349</td>\n",
       "      <td>367</td>\n",
       "      <td>423</td>\n",
       "      <td>444</td>\n",
       "      <td>484</td>\n",
       "      <td>521</td>\n",
       "      <td>555</td>\n",
       "      <td>607</td>\n",
       "      <td>665</td>\n",
       "      <td>714</td>\n",
       "    </tr>\n",
       "    <tr>\n",
       "      <th>1</th>\n",
       "      <td>NaN</td>\n",
       "      <td>Albania</td>\n",
       "      <td>41.1533</td>\n",
       "      <td>20.1683</td>\n",
       "      <td>0</td>\n",
       "      <td>0</td>\n",
       "      <td>0</td>\n",
       "      <td>0</td>\n",
       "      <td>0</td>\n",
       "      <td>0</td>\n",
       "      <td>...</td>\n",
       "      <td>361</td>\n",
       "      <td>377</td>\n",
       "      <td>383</td>\n",
       "      <td>400</td>\n",
       "      <td>409</td>\n",
       "      <td>416</td>\n",
       "      <td>433</td>\n",
       "      <td>446</td>\n",
       "      <td>467</td>\n",
       "      <td>475</td>\n",
       "    </tr>\n",
       "    <tr>\n",
       "      <th>2</th>\n",
       "      <td>NaN</td>\n",
       "      <td>Algeria</td>\n",
       "      <td>28.0339</td>\n",
       "      <td>1.6596</td>\n",
       "      <td>0</td>\n",
       "      <td>0</td>\n",
       "      <td>0</td>\n",
       "      <td>0</td>\n",
       "      <td>0</td>\n",
       "      <td>0</td>\n",
       "      <td>...</td>\n",
       "      <td>1320</td>\n",
       "      <td>1423</td>\n",
       "      <td>1468</td>\n",
       "      <td>1572</td>\n",
       "      <td>1666</td>\n",
       "      <td>1761</td>\n",
       "      <td>1825</td>\n",
       "      <td>1914</td>\n",
       "      <td>1983</td>\n",
       "      <td>2070</td>\n",
       "    </tr>\n",
       "    <tr>\n",
       "      <th>3</th>\n",
       "      <td>NaN</td>\n",
       "      <td>Andorra</td>\n",
       "      <td>42.5063</td>\n",
       "      <td>1.5218</td>\n",
       "      <td>0</td>\n",
       "      <td>0</td>\n",
       "      <td>0</td>\n",
       "      <td>0</td>\n",
       "      <td>0</td>\n",
       "      <td>0</td>\n",
       "      <td>...</td>\n",
       "      <td>501</td>\n",
       "      <td>525</td>\n",
       "      <td>545</td>\n",
       "      <td>564</td>\n",
       "      <td>583</td>\n",
       "      <td>601</td>\n",
       "      <td>601</td>\n",
       "      <td>638</td>\n",
       "      <td>646</td>\n",
       "      <td>659</td>\n",
       "    </tr>\n",
       "    <tr>\n",
       "      <th>4</th>\n",
       "      <td>NaN</td>\n",
       "      <td>Angola</td>\n",
       "      <td>-11.2027</td>\n",
       "      <td>17.8739</td>\n",
       "      <td>0</td>\n",
       "      <td>0</td>\n",
       "      <td>0</td>\n",
       "      <td>0</td>\n",
       "      <td>0</td>\n",
       "      <td>0</td>\n",
       "      <td>...</td>\n",
       "      <td>14</td>\n",
       "      <td>16</td>\n",
       "      <td>17</td>\n",
       "      <td>19</td>\n",
       "      <td>19</td>\n",
       "      <td>19</td>\n",
       "      <td>19</td>\n",
       "      <td>19</td>\n",
       "      <td>19</td>\n",
       "      <td>19</td>\n",
       "    </tr>\n",
       "  </tbody>\n",
       "</table>\n",
       "<p>5 rows × 88 columns</p>\n",
       "</div>"
      ],
      "text/plain": [
       "  Province/State Country/Region      Lat     Long  1/22/20  1/23/20  1/24/20  \\\n",
       "0            NaN    Afghanistan  33.0000  65.0000        0        0        0   \n",
       "1            NaN        Albania  41.1533  20.1683        0        0        0   \n",
       "2            NaN        Algeria  28.0339   1.6596        0        0        0   \n",
       "3            NaN        Andorra  42.5063   1.5218        0        0        0   \n",
       "4            NaN         Angola -11.2027  17.8739        0        0        0   \n",
       "\n",
       "   1/25/20  1/26/20  1/27/20  ...  4/5/20  4/6/20  4/7/20  4/8/20  4/9/20  \\\n",
       "0        0        0        0  ...     349     367     423     444     484   \n",
       "1        0        0        0  ...     361     377     383     400     409   \n",
       "2        0        0        0  ...    1320    1423    1468    1572    1666   \n",
       "3        0        0        0  ...     501     525     545     564     583   \n",
       "4        0        0        0  ...      14      16      17      19      19   \n",
       "\n",
       "   4/10/20  4/11/20  4/12/20  4/13/20  4/14/20  \n",
       "0      521      555      607      665      714  \n",
       "1      416      433      446      467      475  \n",
       "2     1761     1825     1914     1983     2070  \n",
       "3      601      601      638      646      659  \n",
       "4       19       19       19       19       19  \n",
       "\n",
       "[5 rows x 88 columns]"
      ]
     },
     "execution_count": 128,
     "metadata": {},
     "output_type": "execute_result"
    }
   ],
   "source": [
    "vtime_d = pd.read_csv(\"time_series_covid_19_deaths.csv\")#time series for confirmed cases\n",
    "vtime_confirmed = pd.read_csv(\"time_series_covid_19_confirmed.csv\")#time series for confirmed cases\n",
    "popCN = pd.read_csv(\"CNPopulation.csv\", encoding='ISO-8859-1')#china population\n",
    "vtime_confirmed.head()"
   ]
  },
  {
   "cell_type": "code",
   "execution_count": 129,
   "metadata": {},
   "outputs": [
    {
     "data": {
      "text/html": [
       "<div>\n",
       "<style scoped>\n",
       "    .dataframe tbody tr th:only-of-type {\n",
       "        vertical-align: middle;\n",
       "    }\n",
       "\n",
       "    .dataframe tbody tr th {\n",
       "        vertical-align: top;\n",
       "    }\n",
       "\n",
       "    .dataframe thead th {\n",
       "        text-align: right;\n",
       "    }\n",
       "</style>\n",
       "<table border=\"1\" class=\"dataframe\">\n",
       "  <thead>\n",
       "    <tr style=\"text-align: right;\">\n",
       "      <th></th>\n",
       "      <th>Province/State</th>\n",
       "      <th>Population</th>\n",
       "      <th>density</th>\n",
       "      <th>age</th>\n",
       "    </tr>\n",
       "  </thead>\n",
       "  <tbody>\n",
       "    <tr>\n",
       "      <th>0</th>\n",
       "      <td>Beijing</td>\n",
       "      <td>19621386</td>\n",
       "      <td>1167.40</td>\n",
       "      <td>80.18</td>\n",
       "    </tr>\n",
       "    <tr>\n",
       "      <th>1</th>\n",
       "      <td>Tianjin</td>\n",
       "      <td>12938224</td>\n",
       "      <td>1144.46</td>\n",
       "      <td>78.89</td>\n",
       "    </tr>\n",
       "    <tr>\n",
       "      <th>2</th>\n",
       "      <td>Hebei</td>\n",
       "      <td>71854202</td>\n",
       "      <td>382.81</td>\n",
       "      <td>74.97</td>\n",
       "    </tr>\n",
       "    <tr>\n",
       "      <th>3</th>\n",
       "      <td>Shanxi</td>\n",
       "      <td>35712111</td>\n",
       "      <td>228.48</td>\n",
       "      <td>74.92</td>\n",
       "    </tr>\n",
       "    <tr>\n",
       "      <th>4</th>\n",
       "      <td>Inner Mongolia</td>\n",
       "      <td>24706321</td>\n",
       "      <td>20.88</td>\n",
       "      <td>74.44</td>\n",
       "    </tr>\n",
       "  </tbody>\n",
       "</table>\n",
       "</div>"
      ],
      "text/plain": [
       "   Province/State  Population  density    age\n",
       "0         Beijing    19621386  1167.40  80.18\n",
       "1         Tianjin    12938224  1144.46  78.89\n",
       "2           Hebei    71854202   382.81  74.97\n",
       "3          Shanxi    35712111   228.48  74.92\n",
       "4  Inner Mongolia    24706321    20.88  74.44"
      ]
     },
     "execution_count": 129,
     "metadata": {},
     "output_type": "execute_result"
    }
   ],
   "source": [
    "popCN.head()"
   ]
  },
  {
   "cell_type": "markdown",
   "metadata": {},
   "source": [
    "# Maximum mortality and disease confirmed cases rates"
   ]
  },
  {
   "cell_type": "code",
   "execution_count": 130,
   "metadata": {
    "scrolled": true
   },
   "outputs": [],
   "source": [
    "col_ex=['Country/Region', 'Lat', 'Long', 'Population', 'density', 'age']\n",
    "col=[i for i in vtime_d.columns if i not in col_ex]\n",
    "#dataframe for disease rate in china\n",
    "dfCNrate_d=vtime_d.loc[(vtime_d['Country/Region'] == 'China'), col].set_index('Province/State').rolling(2, axis=1).apply(lambda x:x[1]-x[0]).fillna(0)\n",
    "dfCNrate_confirmed=vtime_confirmed.loc[(vtime_confirmed['Country/Region']=='China'), col].set_index('Province/State').rolling(2, axis=1).apply(lambda x:x[1]-x[0]).fillna(0)\n",
    "#dfCNrate=dfCNrate.iloc[:, 1:-18] #to remove dates with very low rate\n",
    "#dfCNrate.head()"
   ]
  },
  {
   "cell_type": "code",
   "execution_count": 131,
   "metadata": {
    "scrolled": true
   },
   "outputs": [
    {
     "name": "stdout",
     "output_type": "stream",
     "text": [
      "                1/22/20  1/23/20  1/24/20  1/25/20  1/26/20  1/27/20  1/28/20  \\\n",
      "Province/State                                                                  \n",
      "Jiangsu             0.0      0.0      0.0      0.0      0.0      0.0      0.0   \n",
      "Macau               0.0      0.0      0.0      0.0      0.0      0.0      0.0   \n",
      "Ningxia             0.0      0.0      0.0      0.0      0.0      0.0      0.0   \n",
      "Qinghai             0.0      0.0      0.0      0.0      0.0      0.0      0.0   \n",
      "Shanxi              0.0      0.0      0.0      0.0      0.0      0.0      0.0   \n",
      "Tibet               0.0      0.0      0.0      0.0      0.0      0.0      0.0   \n",
      "\n",
      "                1/29/20  1/30/20  1/31/20  ...  4/6/20  4/7/20  4/8/20  \\\n",
      "Province/State                             ...                           \n",
      "Jiangsu             0.0      0.0      0.0  ...     0.0     0.0     0.0   \n",
      "Macau               0.0      0.0      0.0  ...     0.0     0.0     0.0   \n",
      "Ningxia             0.0      0.0      0.0  ...     0.0     0.0     0.0   \n",
      "Qinghai             0.0      0.0      0.0  ...     0.0     0.0     0.0   \n",
      "Shanxi              0.0      0.0      0.0  ...     0.0     0.0     0.0   \n",
      "Tibet               0.0      0.0      0.0  ...     0.0     0.0     0.0   \n",
      "\n",
      "                4/9/20  4/10/20  4/11/20  4/12/20  4/13/20  4/14/20  max_rate  \n",
      "Province/State                                                                 \n",
      "Jiangsu            0.0      0.0      0.0      0.0      0.0      0.0       0.0  \n",
      "Macau              0.0      0.0      0.0      0.0      0.0      0.0       0.0  \n",
      "Ningxia            0.0      0.0      0.0      0.0      0.0      0.0       0.0  \n",
      "Qinghai            0.0      0.0      0.0      0.0      0.0      0.0       0.0  \n",
      "Shanxi             0.0      0.0      0.0      0.0      0.0      0.0       0.0  \n",
      "Tibet              0.0      0.0      0.0      0.0      0.0      0.0       0.0  \n",
      "\n",
      "[6 rows x 85 columns]\n"
     ]
    }
   ],
   "source": [
    "col = [i for i in dfCNrate_d.columns if i not in col_ex]\n",
    "dfCNrate_d['max_rate'] = dfCNrate_d[col].max(axis=1)\n",
    "dfCNrate_confirmed['max_rate'] = dfCNrate_confirmed[col].max(axis=1)\n",
    "print(dfCNrate_d[dfCNrate_d['max_rate']==0])\n",
    "dfCNrate_d=dfCNrate_d[dfCNrate_d['max_rate']>0]"
   ]
  },
  {
   "cell_type": "markdown",
   "metadata": {},
   "source": [
    "# Merge with population information and normalize"
   ]
  },
  {
   "cell_type": "code",
   "execution_count": 132,
   "metadata": {
    "scrolled": false
   },
   "outputs": [],
   "source": [
    "#merge with china population table\n",
    "dfCNrate_d=pd.merge(dfCNrate_d, popCN[['Province/State', 'Population', 'density', 'age']], on = 'Province/State', how='inner')\n",
    "dfCNrate_confirmed=pd.merge(dfCNrate_confirmed, popCN[['Province/State', 'Population', 'density', 'age']], on = 'Province/State', how='inner')\n",
    "\n",
    "#dfCNrate.head()"
   ]
  },
  {
   "cell_type": "markdown",
   "metadata": {},
   "source": [
    "Maximum rate normalized by total population"
   ]
  },
  {
   "cell_type": "code",
   "execution_count": 133,
   "metadata": {},
   "outputs": [],
   "source": [
    "dfCNrate_d['max_rate'] = dfCNrate_d['max_rate'].divide(dfCNrate_d['Population'])\n",
    "#dfCNrate['age'] = dfCNrate['age'].subtract(dfCNrate['age'].mean())\n",
    "dfCNrate_d=dfCNrate_d[dfCNrate_d['Province/State'] != 'Hubei'] # to exclude very high rate in Hubei\n",
    "dfCNrate_confirmed['max_rate'] = dfCNrate_confirmed['max_rate'].divide(dfCNrate_confirmed['Population'])\n",
    "#dfCNrate['age'] = dfCNrate['age'].subtract(dfCNrate['age'].mean())\n",
    "dfCNrate_confirmed=dfCNrate_confirmed[dfCNrate_confirmed['Province/State'] != 'Hubei'] # to exclude very high rate in Hubei\n"
   ]
  },
  {
   "cell_type": "markdown",
   "metadata": {},
   "source": [
    "# Linear regression model for mortality rate"
   ]
  },
  {
   "cell_type": "code",
   "execution_count": 134,
   "metadata": {},
   "outputs": [
    {
     "name": "stdout",
     "output_type": "stream",
     "text": [
      "MSE\n",
      "0.17178632350606707\n",
      "r2\n",
      "0.16158291897199828\n"
     ]
    }
   ],
   "source": [
    "model = lm.LinearRegression()#lm.Ridge(alpha=0.01)#\n",
    "#Take one sample out validation\n",
    "Ypr, error = model_Density(dfCNrate_d, model)"
   ]
  },
  {
   "cell_type": "code",
   "execution_count": 135,
   "metadata": {},
   "outputs": [
    {
     "data": {
      "text/plain": [
       "<matplotlib.axes._subplots.AxesSubplot at 0x17c22103f28>"
      ]
     },
     "execution_count": 135,
     "metadata": {},
     "output_type": "execute_result"
    },
    {
     "data": {
      "image/png": "[encoded data removed]",
      "text/plain": [
       "<Figure size 432x288 with 1 Axes>"
      ]
     },
     "metadata": {},
     "output_type": "display_data"
    }
   ],
   "source": [
    "plt.figure()\n",
    "plt.ylim(0, 0.0000003)\n",
    "sns.scatterplot(dfCNrate_d['density'], dfCNrate_d['max_rate'])\n",
    "sns.scatterplot(dfCNrate_d['density'], np.array(Ypr))"
   ]
  },
  {
   "cell_type": "code",
   "execution_count": 136,
   "metadata": {},
   "outputs": [
    {
     "data": {
      "text/plain": [
       "array([10194])"
      ]
     },
     "execution_count": 136,
     "metadata": {},
     "output_type": "execute_result"
    }
   ],
   "source": [
    "np.array([10194])"
   ]
  },
  {
   "cell_type": "markdown",
   "metadata": {},
   "source": [
    "# Linear regression model for confirmed diseases cases"
   ]
  },
  {
   "cell_type": "code",
   "execution_count": 137,
   "metadata": {},
   "outputs": [
    {
     "name": "stdout",
     "output_type": "stream",
     "text": [
      "MSE\n",
      "0.16409294220850104\n",
      "r2\n",
      "0.20074593257764073\n"
     ]
    }
   ],
   "source": [
    "model = lm.LinearRegression()#lm.Ridge(alpha=0.01)#\n",
    "#Take one sample out validation\n",
    "Ypr, error = model_Density(dfCNrate_confirmed, model)"
   ]
  },
  {
   "cell_type": "code",
   "execution_count": 138,
   "metadata": {},
   "outputs": [
    {
     "data": {
      "text/plain": [
       "<matplotlib.axes._subplots.AxesSubplot at 0x17c2223be48>"
      ]
     },
     "execution_count": 138,
     "metadata": {},
     "output_type": "execute_result"
    },
    {
     "data": {
      "image/png": "[encoded data removed]",
      "text/plain": [
       "<Figure size 432x288 with 1 Axes>"
      ]
     },
     "metadata": {},
     "output_type": "display_data"
    }
   ],
   "source": [
    "plt.figure()\n",
    "plt.ylim(0, 0.000007)\n",
    "sns.scatterplot(dfCNrate_confirmed['density'], dfCNrate_confirmed['max_rate'])\n",
    "sns.scatterplot(dfCNrate_confirmed['density'], np.array(Ypr))"
   ]
  }
 ],
 "metadata": {
  "kernelspec": {
   "display_name": "Python 3",
   "language": "python",
   "name": "python3"
  },
  "language_info": {
   "codemirror_mode": {
    "name": "ipython",
    "version": 3
   },
   "file_extension": ".py",
   "mimetype": "text/x-python",
   "name": "python",
   "nbconvert_exporter": "python",
   "pygments_lexer": "ipython3",
   "version": "3.7.0"
  }
 },
 "nbformat": 4,
 "nbformat_minor": 2
}
